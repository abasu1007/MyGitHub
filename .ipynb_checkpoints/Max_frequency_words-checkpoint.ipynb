{
 "cells": [
  {
   "cell_type": "code",
   "execution_count": 57,
   "metadata": {
    "collapsed": false
   },
   "outputs": [
    {
     "name": "stdout",
     "output_type": "stream",
     "text": [
      "[('cat', 3), ('bat', 2), ('mat', 1)]\n",
      "[('betty', 2), ('bought', 2), ('butter', 2), ('a', 1), ('bit', 1)]\n"
     ]
    }
   ],
   "source": [
    "\"\"\"Count words.\"\"\"\n",
    "\n",
    "def count_words(s, n):\n",
    "    \"\"\"Return the n most frequently occuring words in s.\"\"\"\n",
    "    \n",
    "    # TODO: Count the number of occurences of each word in s\n",
    "    s_array = s.lower().split(\" \")\n",
    "    dict_s = {}\n",
    "    \n",
    "    for word in s_array:\n",
    "        if word in dict_s:\n",
    "            dict_s[word] = dict_s[word] + 1\n",
    "        else:\n",
    "            dict_s[word] = 1\n",
    "    \n",
    "    tuple_s = []\n",
    "    \n",
    "    for word in dict_s:\n",
    "        tuple_s.append((word, dict_s[word]))\n",
    "            \n",
    "    # TODO: Sort the occurences in descending order (alphabetically in case of ties)\n",
    "    def max_count(tuple_s):\n",
    "        word_max = tuple_s[0][0]\n",
    "        count_max = tuple_s[0][1]\n",
    "        \n",
    "        for word, count in tuple_s:            \n",
    "            if (count > count_max):\n",
    "                count_max = count\n",
    "                word_max = word\n",
    "            \n",
    "            elif ((count == count_max) & (word < word_max)):\n",
    "                count_max = count\n",
    "                word_max = word\n",
    "        \n",
    "        return word_max, count_max\n",
    "        \n",
    "    \n",
    "    # TODO: Return the top n words as a list of tuples (<word>, <count>)\n",
    "    top_n = []\n",
    "    \n",
    "    if n > len(tuple_s):\n",
    "        print \"n exceeds number of unique words\"\n",
    "        n = len(tuple_s)\n",
    "    \n",
    "    for _ in range(n):\n",
    "        max_word = max_count(tuple_s)\n",
    "        top_n.append(max_word)\n",
    "        tuple_s.remove(max_word)\n",
    "        \n",
    "    return top_n\n",
    "\n",
    "\n",
    "def test_run():\n",
    "    \"\"\"Test count_words() with some inputs.\"\"\"\n",
    "    print count_words(\"cat bat mat cat bat cat\", 3)\n",
    "    print count_words(\"Betty bought a bit of butter but the butter that betty bought was bitter\", 5)\n",
    "\n",
    "\n",
    "if __name__ == '__main__':\n",
    "    test_run()\n"
   ]
  }
 ],
 "metadata": {
  "kernelspec": {
   "display_name": "Python 2",
   "language": "python",
   "name": "python2"
  },
  "language_info": {
   "codemirror_mode": {
    "name": "ipython",
    "version": 2
   },
   "file_extension": ".py",
   "mimetype": "text/x-python",
   "name": "python",
   "nbconvert_exporter": "python",
   "pygments_lexer": "ipython2",
   "version": "2.7.11"
  }
 },
 "nbformat": 4,
 "nbformat_minor": 0
}
